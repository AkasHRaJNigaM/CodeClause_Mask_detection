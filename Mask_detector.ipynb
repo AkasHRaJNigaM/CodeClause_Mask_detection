{
  "nbformat": 4,
  "nbformat_minor": 0,
  "metadata": {
    "colab": {
      "provenance": [],
      "mount_file_id": "1p2l0bvDnL2pwbUX-hJx06Yu4wlpWzrxO",
      "authorship_tag": "ABX9TyOYJVDlGaEWetXASai3mEmX",
      "include_colab_link": true
    },
    "kernelspec": {
      "name": "python3",
      "display_name": "Python 3"
    },
    "language_info": {
      "name": "python"
    }
  },
  "cells": [
    {
      "cell_type": "markdown",
      "metadata": {
        "id": "view-in-github",
        "colab_type": "text"
      },
      "source": [
        "<a href=\"https://colab.research.google.com/github/AkasHRaJNigaM/CodeClause_Mask_detection/blob/main/Mask_detector.ipynb\" target=\"_parent\"><img src=\"https://colab.research.google.com/assets/colab-badge.svg\" alt=\"Open In Colab\"/></a>"
      ]
    },
    {
      "cell_type": "code",
      "execution_count": 3,
      "metadata": {
        "id": "r4qvQsTEdcFw"
      },
      "outputs": [],
      "source": [
        "import tensorflow as tf\n",
        "import numpy as np\n",
        "import matplotlib.pyplot as plt\n",
        "from keras_preprocessing.image import load_img , img_to_array , ImageDataGenerator\n",
        "import os\n",
        "import shutil\n",
        "import zipfile\n",
        "import xml\n",
        "import random\n",
        "import lxml\n",
        "from bs4 import BeautifulSoup "
      ]
    },
    {
      "cell_type": "code",
      "source": [
        "local_ref = os.path.join('/content/drive/MyDrive/Colab Notebooks/archive.zip')\n",
        "zipfile_ref = zipfile.ZipFile(local_ref)\n",
        "zipfile_ref.extractall('tmp')\n",
        "zipfile_ref.close()"
      ],
      "metadata": {
        "id": "iDhDZf2Odl7I"
      },
      "execution_count": 4,
      "outputs": []
    },
    {
      "cell_type": "code",
      "source": [
        "root_dir = os.path.join('tmp')\n",
        "\n",
        "imgs_dir = os.path.join(root_dir , 'images')\n",
        "\n",
        "annotations_dir = os.path.join(root_dir , 'annotations')\n",
        "base_dir = os.path.join('base')\n",
        "\n",
        "train_dir = os.path.join(base_dir , 'train') \n",
        "\n",
        "validation_dir = os.path.join(base_dir , 'validation')\n",
        "\n",
        "train_with_mask_dir = os.path.join(train_dir, 'with_mask')\n",
        "\n",
        "train_without_mask_dir = os.path.join(train_dir , 'without_mask')\n",
        "\n",
        "validation_with_mask_dir = os.path.join(validation_dir , 'with_mask')\n",
        "\n",
        "validation_without_mask_dir = os.path.join(validation_dir , 'without_mask')\n",
        "with_mask_dir = os.path.join(root_dir , 'wtih_mask')\n",
        "without_mask_dir = os.path.join(root_dir , 'without_mask')\n",
        "\n",
        "\n",
        "def create_directory(path):\n",
        "    if not os.path.exists(path):\n",
        "        os.makedirs(path)"
      ],
      "metadata": {
        "id": "w5ieOA5tdtQn"
      },
      "execution_count": 5,
      "outputs": []
    },
    {
      "cell_type": "code",
      "source": [
        "create_directory(base_dir)\n",
        "\n",
        "create_directory(train_dir )\n",
        "\n",
        "create_directory(validation_dir)\n",
        "\n",
        "create_directory(train_with_mask_dir )\n",
        "\n",
        "create_directory(train_without_mask_dir )\n",
        "\n",
        "create_directory(validation_with_mask_dir)\n",
        "create_directory(validation_without_mask_dir)\n",
        "create_directory(with_mask_dir)\n",
        "create_directory(without_mask_dir)\n"
      ],
      "metadata": {
        "id": "N57iDfZHd38r"
      },
      "execution_count": 6,
      "outputs": []
    },
    {
      "cell_type": "code",
      "source": [
        "file_names_annotations = {}\n",
        "for anno in os.listdir(annotations_dir):\n",
        "    with open(os.path.join(annotations_dir,anno) , 'r') as f:\n",
        "        content = f.read()\n",
        "    \n",
        "    content = BeautifulSoup(content , 'xml')\n",
        "\n",
        "    if 'mask_weared_incorrect' in str(content) or 'with_mask' in str(content):\n",
        "        file_names_annotations[content.find('filename').text] = 1 #means image at least has one mask \n",
        "    else:\n",
        "        file_names_annotations[content.find('filename').text] = 0 #means image does not has any mask"
      ],
      "metadata": {
        "id": "Rk1nHI4Kd95s"
      },
      "execution_count": 7,
      "outputs": []
    },
    {
      "cell_type": "code",
      "source": [
        "def copy_file(src_path , dest_path , file_names):\n",
        "    for file in file_names:\n",
        "        shutil.copy(os.path.join(src_path  , file ), os.path.join(dest_path , file))\n",
        "copy_file(imgs_dir , with_mask_dir , [key for key , value in file_names_annotations.items() if value == 1])\n",
        "copy_file(imgs_dir , without_mask_dir , [key for key , value in file_names_annotations.items() if value == 0])"
      ],
      "metadata": {
        "id": "gYVlkqITeEgg"
      },
      "execution_count": 8,
      "outputs": []
    },
    {
      "cell_type": "code",
      "source": [
        "def split_files(src_path , train_path , validation_path , split_ratio):\n",
        "    #split_size\n",
        "    split_size = int(split_ratio * len(os.listdir(src_path)))\n",
        "    \n",
        "    train_files_selected = random.sample(os.listdir(src_path) , split_size)\n",
        "    copy_file(src_path , train_path , train_files_selected)\n",
        "    \n",
        "    validation_files_rest = [file for file in os.listdir(src_path) if file not in train_files_selected]\n",
        "    copy_file(src_path , validation_path , validation_files_rest)\n",
        "split_ratio  = 0.9\n",
        "split_files(with_mask_dir , train_with_mask_dir , validation_with_mask_dir , split_ratio)\n",
        "split_files(without_mask_dir , train_without_mask_dir , validation_without_mask_dir , split_ratio)"
      ],
      "metadata": {
        "id": "7l6B3zwxeIii"
      },
      "execution_count": 9,
      "outputs": []
    },
    {
      "cell_type": "code",
      "source": [
        "train_gen = ImageDataGenerator(rescale = 1. / 255. , \n",
        "                              shear_range=0.2,\n",
        "                              rotation_range=50 , \n",
        "                              width_shift_range=0.2,\n",
        "                              height_shift_range=0.2,\n",
        "                              fill_mode='nearest',\n",
        "                              horizontal_flip=True,\n",
        "                              vertical_flip=True)\n",
        "trian_data_gen =train_gen.flow_from_directory(train_dir , \n",
        "                                             class_mode='binary',\n",
        "                                             target_size=(150,150),\n",
        "                                             batch_size = 128)\n"
      ],
      "metadata": {
        "colab": {
          "base_uri": "https://localhost:8080/"
        },
        "id": "oTKcS2YveLl9",
        "outputId": "4ed843ba-f495-4fab-ea18-8e5a7002feed"
      },
      "execution_count": 10,
      "outputs": [
        {
          "output_type": "stream",
          "name": "stdout",
          "text": [
            "Found 767 images belonging to 2 classes.\n"
          ]
        }
      ]
    },
    {
      "cell_type": "code",
      "source": [
        "validation_gen = ImageDataGenerator(rescale = 1. / 255. )\n",
        "validation_data_gen =train_gen.flow_from_directory(validation_dir , \n",
        "                                             class_mode='binary',\n",
        "                                             target_size=(150,150),\n",
        "                                             batch_size = 8)"
      ],
      "metadata": {
        "colab": {
          "base_uri": "https://localhost:8080/"
        },
        "id": "8Qg3ps50eRn4",
        "outputId": "81ba0f5b-a186-4a05-89cb-686bb6d92bf5"
      },
      "execution_count": 11,
      "outputs": [
        {
          "output_type": "stream",
          "name": "stdout",
          "text": [
            "Found 86 images belonging to 2 classes.\n"
          ]
        }
      ]
    },
    {
      "cell_type": "code",
      "source": [
        "from keras.applications.inception_v3 import InceptionV3\n",
        "model_2 = InceptionV3(include_top = False , input_shape = (150 , 150 , 3) , weights = None)\n",
        "#freezing layers for no more training\n",
        "for layer in model_2.layers:\n",
        "    layer.trainable = False"
      ],
      "metadata": {
        "id": "0QkY43vDecC8"
      },
      "execution_count": 12,
      "outputs": []
    },
    {
      "cell_type": "code",
      "source": [
        "!wget --no-check-certificate https://storage.googleapis.com/mledu-datasets/inception_v3_weights_tf_dim_ordering_tf_kernels_notop.h5"
      ],
      "metadata": {
        "colab": {
          "base_uri": "https://localhost:8080/"
        },
        "id": "NbM8ppojefBf",
        "outputId": "ee9fc8c9-7879-4a7c-cb78-589bee25e4ef"
      },
      "execution_count": 13,
      "outputs": [
        {
          "output_type": "stream",
          "name": "stdout",
          "text": [
            "--2023-01-15 08:23:59--  https://storage.googleapis.com/mledu-datasets/inception_v3_weights_tf_dim_ordering_tf_kernels_notop.h5\n",
            "Resolving storage.googleapis.com (storage.googleapis.com)... 74.125.204.128, 64.233.189.128, 108.177.97.128, ...\n",
            "Connecting to storage.googleapis.com (storage.googleapis.com)|74.125.204.128|:443... connected.\n",
            "HTTP request sent, awaiting response... 200 OK\n",
            "Length: 87910968 (84M) [application/x-hdf]\n",
            "Saving to: ‘inception_v3_weights_tf_dim_ordering_tf_kernels_notop.h5’\n",
            "\n",
            "inception_v3_weight 100%[===================>]  83.84M  24.8MB/s    in 4.2s    \n",
            "\n",
            "2023-01-15 08:24:03 (20.0 MB/s) - ‘inception_v3_weights_tf_dim_ordering_tf_kernels_notop.h5’ saved [87910968/87910968]\n",
            "\n"
          ]
        }
      ]
    },
    {
      "cell_type": "code",
      "source": [
        "model_2.load_weights('inception_v3_weights_tf_dim_ordering_tf_kernels_notop.h5')\n",
        "model_2.summary()\n"
      ],
      "metadata": {
        "id": "jdEHqPbreq_4"
      },
      "execution_count": null,
      "outputs": []
    },
    {
      "cell_type": "code",
      "source": [
        "model_2_output = model_2.get_layer('mixed10')\n",
        "model_2_output_shape = model_2_output.output\n",
        "x = tf.keras.layers.Flatten()(model_2_output_shape)\n",
        "x = tf.keras.layers.Dense(512 , activation = 'relu')(x)\n",
        "x = tf.keras.layers.Dense(1 , activation = 'sigmoid')(x)\n"
      ],
      "metadata": {
        "id": "OZB2zW_OfqJC"
      },
      "execution_count": 15,
      "outputs": []
    },
    {
      "cell_type": "code",
      "source": [
        "pre_trained_model = tf.keras.models.Model(model_2.input , x)\n",
        "pre_trained_model.compile(loss = tf.keras.losses.binary_crossentropy, optimizer  = tf.keras.optimizers.Adam(), metrics = ['accuracy'])\n",
        "es_callback = tf.keras.callbacks.EarlyStopping(monitor = 'val_accuracy', patience = 4)\n",
        "history_2 = pre_trained_model.fit(trian_data_gen , validation_data = validation_data_gen , epochs = 20 , callbacks = [es_callback])"
      ],
      "metadata": {
        "colab": {
          "base_uri": "https://localhost:8080/"
        },
        "id": "xGBlm1Wqfy_V",
        "outputId": "ff391896-f612-491d-9cc4-1e4fb9ad2bf6"
      },
      "execution_count": 16,
      "outputs": [
        {
          "output_type": "stream",
          "name": "stdout",
          "text": [
            "Epoch 1/20\n",
            "6/6 [==============================] - 56s 8s/step - loss: 13.0262 - accuracy: 0.8866 - val_loss: 5.5366 - val_accuracy: 0.9302\n",
            "Epoch 2/20\n",
            "6/6 [==============================] - 50s 8s/step - loss: 2.0005 - accuracy: 0.8787 - val_loss: 0.3241 - val_accuracy: 0.9302\n",
            "Epoch 3/20\n",
            "6/6 [==============================] - 54s 9s/step - loss: 0.2526 - accuracy: 0.9296 - val_loss: 0.2909 - val_accuracy: 0.9302\n",
            "Epoch 4/20\n",
            "6/6 [==============================] - 50s 8s/step - loss: 0.2635 - accuracy: 0.9296 - val_loss: 0.2313 - val_accuracy: 0.9302\n",
            "Epoch 5/20\n",
            "6/6 [==============================] - 51s 8s/step - loss: 0.1975 - accuracy: 0.9296 - val_loss: 0.1864 - val_accuracy: 0.9302\n"
          ]
        }
      ]
    },
    {
      "cell_type": "code",
      "source": [
        "plt.plot(history_2.history['loss'] , 'b' , label = 'train loss')\n",
        "plt.plot(history_2.history['val_loss'] , 'orange' , label = 'val loss' )\n",
        "plt.legend()\n",
        "plt.show()\n"
      ],
      "metadata": {
        "colab": {
          "base_uri": "https://localhost:8080/",
          "height": 265
        },
        "id": "1A5p9529exZs",
        "outputId": "09e561ca-d35c-4b9e-dc8d-854af503f585"
      },
      "execution_count": 17,
      "outputs": [
        {
          "output_type": "display_data",
          "data": {
            "text/plain": [
              "<Figure size 432x288 with 1 Axes>"
            ],
            "image/png": "[encoded data removed]"
          },
          "metadata": {
            "needs_background": "light"
          }
        }
      ]
    },
    {
      "cell_type": "code",
      "source": [
        "plt.plot(history_2.history['accuracy'] , 'b' , label = 'train accuracy')\n",
        "plt.plot(history_2.history['val_accuracy'] , 'orange' , label = 'val accuracy' )\n",
        "plt.legend()\n",
        "plt.show()\n"
      ],
      "metadata": {
        "colab": {
          "base_uri": "https://localhost:8080/",
          "height": 265
        },
        "id": "-pj6JGeUe0Cw",
        "outputId": "7677ba3f-322d-43e9-bddb-f98cfaf8c81c"
      },
      "execution_count": 18,
      "outputs": [
        {
          "output_type": "display_data",
          "data": {
            "text/plain": [
              "<Figure size 432x288 with 1 Axes>"
            ],
            "image/png": "[encoded data removed]"
          },
          "metadata": {
            "needs_background": "light"
          }
        }
      ]
    },
    {
      "cell_type": "code",
      "source": [
        "pre_trained_model.evaluate(validation_data_gen)\n"
      ],
      "metadata": {
        "colab": {
          "base_uri": "https://localhost:8080/"
        },
        "id": "V9L8xsgwe3vb",
        "outputId": "4efb477b-ec30-49ae-de0d-52a7300f51cf"
      },
      "execution_count": 19,
      "outputs": [
        {
          "output_type": "stream",
          "name": "stdout",
          "text": [
            "11/11 [==============================] - 6s 547ms/step - loss: 0.1771 - accuracy: 0.9302\n"
          ]
        },
        {
          "output_type": "execute_result",
          "data": {
            "text/plain": [
              "[0.17714524269104004, 0.930232584476471]"
            ]
          },
          "metadata": {},
          "execution_count": 19
        }
      ]
    },
    {
      "cell_type": "code",
      "source": [
        "pre_trained_model.save('model.h5')"
      ],
      "metadata": {
        "id": "HDQrHEVopQq3"
      },
      "execution_count": 26,
      "outputs": []
    },
    {
      "cell_type": "code",
      "source": [],
      "metadata": {
        "id": "OT1Y-DfVnI3u"
      },
      "execution_count": null,
      "outputs": []
    }
  ]
}